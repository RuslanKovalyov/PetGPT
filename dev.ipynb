{
 "cells": [
  {
   "cell_type": "markdown",
   "metadata": {},
   "source": [
    "# Simple character level tokenizer"
   ]
  },
  {
   "cell_type": "code",
   "execution_count": 343,
   "metadata": {},
   "outputs": [
    {
     "name": "stdout",
     "output_type": "stream",
     "text": [
      "\n",
      "Vocabulary size is  65 chars/tokens:  \n",
      " !$&',-.3:;?ABCDEFGHIJKLMNOPQRSTUVWXYZabcdefghijklmnopqrstuvwxyz\n",
      "\n",
      "Vocabulary:  {'\\n': 0, ' ': 1, '!': 2, '$': 3, '&': 4, \"'\": 5, ',': 6, '-': 7, '.': 8, '3': 9, ':': 10, ';': 11, '?': 12, 'A': 13, 'B': 14, 'C': 15, 'D': 16, 'E': 17, 'F': 18, 'G': 19, 'H': 20, 'I': 21, 'J': 22, 'K': 23, 'L': 24, 'M': 25, 'N': 26, 'O': 27, 'P': 28, 'Q': 29, 'R': 30, 'S': 31, 'T': 32, 'U': 33, 'V': 34, 'W': 35, 'X': 36, 'Y': 37, 'Z': 38, 'a': 39, 'b': 40, 'c': 41, 'd': 42, 'e': 43, 'f': 44, 'g': 45, 'h': 46, 'i': 47, 'j': 48, 'k': 49, 'l': 50, 'm': 51, 'n': 52, 'o': 53, 'p': 54, 'q': 55, 'r': 56, 's': 57, 't': 58, 'u': 59, 'v': 60, 'w': 61, 'x': 62, 'y': 63, 'z': 64}\n",
      "example:  [57, 53, 51, 43, 1, 58, 43, 62, 58, 1, 44, 53, 56, 1, 58, 56, 39, 47, 52, 47, 52, 45] some text for training\n"
     ]
    }
   ],
   "source": [
    "with open('shakespeare.txt', 'r') as f:\n",
    "    text = f.read()\n",
    "chars = sorted(list(set(text)))\n",
    "print(\"\\nVocabulary size is \", len(chars), \"chars/tokens: \", ''.join(chars))\n",
    "\n",
    "ctoi, itoc = dict((char, index) for index, char in enumerate(chars)), dict((index, char) for index, char in enumerate(chars))\n",
    "print(\"\\nVocabulary: \",  ctoi)\n",
    "\n",
    "encode = lambda sentence: [ctoi[char] for char in sentence] # encode sentence to index\n",
    "decode = lambda indexes: ''.join([itoc[index] for index in indexes]) # decode index to sentence\n",
    "print(\"example: \",encode(\"some text for training\"), decode(encode(\"some text for training\")))"
   ]
  },
  {
   "cell_type": "code",
   "execution_count": 344,
   "metadata": {},
   "outputs": [
    {
     "name": "stdout",
     "output_type": "stream",
     "text": [
      "\n",
      "Data shape: torch.Size([1115393]) \n",
      "Data type: torch.int64\n",
      "Data example:\n",
      " tensor([18, 47, 56,  ..., 52, 45,  8])\n"
     ]
    }
   ],
   "source": [
    "import torch\n",
    "data = torch.LongTensor(encode(text))\n",
    "print(\"\\nData shape:\", data.shape, \"\\nData type:\", data.dtype)\n",
    "print(\"Data example:\\n\", data[:])"
   ]
  },
  {
   "cell_type": "markdown",
   "metadata": {},
   "source": [
    "# Separate data to train and validation 90/10\n",
    "### generate a small batch of data of inputs x and targets y"
   ]
  },
  {
   "cell_type": "code",
   "execution_count": 345,
   "metadata": {},
   "outputs": [],
   "source": [
    "n = int(len(data) * 0.9)\n",
    "train_data = data[:n]\n",
    "val_data = data[n:]"
   ]
  },
  {
   "cell_type": "code",
   "execution_count": 346,
   "metadata": {},
   "outputs": [
    {
     "name": "stdout",
     "output_type": "stream",
     "text": [
      "input is tensor([18]) and target is 47\n",
      "input is tensor([18, 47]) and target is 56\n",
      "input is tensor([18, 47, 56]) and target is 57\n",
      "input is tensor([18, 47, 56, 57]) and target is 58\n",
      "input is tensor([18, 47, 56, 57, 58]) and target is 1\n",
      "input is tensor([18, 47, 56, 57, 58,  1]) and target is 15\n",
      "input is tensor([18, 47, 56, 57, 58,  1, 15]) and target is 47\n",
      "input is tensor([18, 47, 56, 57, 58,  1, 15, 47]) and target is 58\n"
     ]
    }
   ],
   "source": [
    "# block size\n",
    "block_size = 8\n",
    "x = train_data[:block_size]\n",
    "y = train_data[1:block_size+1]\n",
    "for t in range(block_size):\n",
    "    context = x[:t+1]\n",
    "    target = y[t]\n",
    "    print(f\"input is {context} and target is {target}\")"
   ]
  },
  {
   "cell_type": "code",
   "execution_count": 347,
   "metadata": {},
   "outputs": [
    {
     "name": "stdout",
     "output_type": "stream",
     "text": [
      "inputs:\n",
      "torch.Size([4, 8])\n",
      "tensor([[53, 59,  6,  1, 58, 56, 47, 40],\n",
      "        [49, 43, 43, 54,  1, 47, 58,  1],\n",
      "        [13, 52, 45, 43, 50, 53,  8,  0],\n",
      "        [ 1, 39,  1, 46, 53, 59, 57, 43]])\n",
      "targets:\n",
      "torch.Size([4, 8])\n",
      "tensor([[59,  6,  1, 58, 56, 47, 40, 59],\n",
      "        [43, 43, 54,  1, 47, 58,  1, 58],\n",
      "        [52, 45, 43, 50, 53,  8,  0, 26],\n",
      "        [39,  1, 46, 53, 59, 57, 43,  0]])\n",
      "----\n",
      "input is [53] and target is 59\n",
      "input is [53, 59] and target is 6\n",
      "input is [53, 59, 6] and target is 1\n",
      "input is [53, 59, 6, 1] and target is 58\n",
      "input is [53, 59, 6, 1, 58] and target is 56\n",
      "input is [53, 59, 6, 1, 58, 56] and target is 47\n",
      "input is [53, 59, 6, 1, 58, 56, 47] and target is 40\n",
      "input is [53, 59, 6, 1, 58, 56, 47, 40] and target is 59\n",
      "input is [49] and target is 43\n",
      "input is [49, 43] and target is 43\n",
      "input is [49, 43, 43] and target is 54\n",
      "input is [49, 43, 43, 54] and target is 1\n",
      "input is [49, 43, 43, 54, 1] and target is 47\n",
      "input is [49, 43, 43, 54, 1, 47] and target is 58\n",
      "input is [49, 43, 43, 54, 1, 47, 58] and target is 1\n",
      "input is [49, 43, 43, 54, 1, 47, 58, 1] and target is 58\n",
      "input is [13] and target is 52\n",
      "input is [13, 52] and target is 45\n",
      "input is [13, 52, 45] and target is 43\n",
      "input is [13, 52, 45, 43] and target is 50\n",
      "input is [13, 52, 45, 43, 50] and target is 53\n",
      "input is [13, 52, 45, 43, 50, 53] and target is 8\n",
      "input is [13, 52, 45, 43, 50, 53, 8] and target is 0\n",
      "input is [13, 52, 45, 43, 50, 53, 8, 0] and target is 26\n",
      "input is [1] and target is 39\n",
      "input is [1, 39] and target is 1\n",
      "input is [1, 39, 1] and target is 46\n",
      "input is [1, 39, 1, 46] and target is 53\n",
      "input is [1, 39, 1, 46, 53] and target is 59\n",
      "input is [1, 39, 1, 46, 53, 59] and target is 57\n",
      "input is [1, 39, 1, 46, 53, 59, 57] and target is 43\n",
      "input is [1, 39, 1, 46, 53, 59, 57, 43] and target is 0\n"
     ]
    }
   ],
   "source": [
    "# Batch size dimension\n",
    "torch.manual_seed(1337) # for reproducibility (same random numbers every time)\n",
    "batch_size = 4 # number of independent sequences to train on in parallel\n",
    "block_size = 8 # maximum context length for predictions\n",
    "\n",
    "def get_batch(split):\n",
    "    # generate a small batch of data of inputs x and targets y\n",
    "    data = train_data if split == 'train' else val_data\n",
    "    ix = torch.randint(0, len(data) - block_size, (batch_size,))\n",
    "    x = torch.stack([data[i:i+block_size] for i in ix])\n",
    "    y = torch.stack([data[i+1:i+1+block_size] for i in ix])\n",
    "    return x, y\n",
    "\n",
    "xb, yb = get_batch('train')\n",
    "print('inputs:')\n",
    "print(xb.shape)\n",
    "print(xb)\n",
    "print('targets:')\n",
    "print(yb.shape)\n",
    "print(yb)\n",
    "\n",
    "print('----')\n",
    "\n",
    "for b in range(batch_size): # batch dimension\n",
    "    for t in range(block_size): # time dimension\n",
    "        context = xb[b, :t+1]\n",
    "        target = yb[b, t]\n",
    "        print(f\"input is {context.tolist()} and target is {target}\")\n"
   ]
  },
  {
   "cell_type": "code",
   "execution_count": 348,
   "metadata": {},
   "outputs": [
    {
     "name": "stdout",
     "output_type": "stream",
     "text": [
      "tensor([[53, 59,  6,  1, 58, 56, 47, 40],\n",
      "        [49, 43, 43, 54,  1, 47, 58,  1],\n",
      "        [13, 52, 45, 43, 50, 53,  8,  0],\n",
      "        [ 1, 39,  1, 46, 53, 59, 57, 43]])\n"
     ]
    }
   ],
   "source": [
    "print(xb) # input to the transformer"
   ]
  }
 ],
 "metadata": {
  "kernelspec": {
   "display_name": "Python 3",
   "language": "python",
   "name": "python3"
  },
  "language_info": {
   "codemirror_mode": {
    "name": "ipython",
    "version": 3
   },
   "file_extension": ".py",
   "mimetype": "text/x-python",
   "name": "python",
   "nbconvert_exporter": "python",
   "pygments_lexer": "ipython3",
   "version": "3.11.5"
  }
 },
 "nbformat": 4,
 "nbformat_minor": 2
}
