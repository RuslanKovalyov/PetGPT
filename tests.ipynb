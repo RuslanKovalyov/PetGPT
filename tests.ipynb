{
 "cells": [
  {
   "cell_type": "markdown",
   "metadata": {},
   "source": [
    "# Simple word level tokenizer"
   ]
  },
  {
   "cell_type": "code",
   "execution_count": 24,
   "metadata": {},
   "outputs": [
    {
     "name": "stdout",
     "output_type": "stream",
     "text": [
      "Lengh of text:  4 words\n",
      "\n",
      "Vocabulary:  {'for': 0, 'some': 1, 'text': 2, 'training': 3}\n",
      "[1, 2, 0, 3] some text for training\n",
      "Vocabulary size:  4 tokens\n"
     ]
    }
   ],
   "source": [
    "with open('training-text.txt', 'r') as f:\n",
    "    text = f.read()\n",
    "words = sorted(list(set(text.split(' '))))\n",
    "print(\"Lengh of text: \", len(words), \"words\")\n",
    "\n",
    "wtoi, itow = dict((w, i) for i, w in enumerate(words)), dict((i, w) for i, w in enumerate(words))\n",
    "print(\"\\nVocabulary: \",  wtoi)\n",
    "\n",
    "encoder = lambda sentence: [wtoi[word] for word in sentence.split(' ')] # encode sentence to index\n",
    "decoder = lambda indexes: ' '.join([itow[index] for index in indexes]) # decode index to sentence\n",
    "print(encoder(\"some text for training\"), decoder(encoder(\"some text for training\")))\n",
    "print(\"Vocabulary size: \", len(wtoi), \"tokens\")"
   ]
  }
 ],
 "metadata": {
  "kernelspec": {
   "display_name": "Python 3",
   "language": "python",
   "name": "python3"
  },
  "language_info": {
   "codemirror_mode": {
    "name": "ipython",
    "version": 3
   },
   "file_extension": ".py",
   "mimetype": "text/x-python",
   "name": "python",
   "nbconvert_exporter": "python",
   "pygments_lexer": "ipython3",
   "version": "3.10.12"
  }
 },
 "nbformat": 4,
 "nbformat_minor": 2
}
