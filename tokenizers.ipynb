{
 "cells": [
  {
   "cell_type": "markdown",
   "metadata": {},
   "source": [
    "# Simple word level tokenizer"
   ]
  },
  {
   "cell_type": "code",
   "execution_count": 2,
   "metadata": {},
   "outputs": [
    {
     "name": "stdout",
     "output_type": "stream",
     "text": [
      "Vocabulary size:  4 words/tokens\n",
      "\n",
      "Vocabulary:  {'for': 0, 'some': 1, 'text': 2, 'training': 3}\n",
      "example:  [1, 2, 0, 3] some text for training\n"
     ]
    }
   ],
   "source": [
    "with open('training-text.txt', 'r') as f:\n",
    "    text = f.read()\n",
    "words = sorted(list(set(text.split(' '))))\n",
    "print(\"Vocabulary size: \", len(words), \"words/tokens\")\n",
    "\n",
    "wtoi, itow = dict((word, index) for index, word in enumerate(words)), dict((index, word) for index, word in enumerate(words))\n",
    "print(\"\\nVocabulary: \",  wtoi)\n",
    "\n",
    "encoder = lambda sentence: [wtoi[word] for word in sentence.split(' ')] # encode sentence to index\n",
    "decoder = lambda indexes: ' '.join([itow[index] for index in indexes]) # decode index to sentence\n",
    "print(\"example: \",encoder(\"some text for training\"), decoder(encoder(\"some text for training\")))"
   ]
  },
  {
   "cell_type": "markdown",
   "metadata": {},
   "source": [
    "# Simple character level tokenizer"
   ]
  },
  {
   "cell_type": "code",
   "execution_count": 3,
   "metadata": {},
   "outputs": [
    {
     "name": "stdout",
     "output_type": "stream",
     "text": [
      "\n",
      "Vocabulary size is  13 characters:   aefgimnorstx\n",
      "\n",
      "Vocabulary:  {' ': 0, 'a': 1, 'e': 2, 'f': 3, 'g': 4, 'i': 5, 'm': 6, 'n': 7, 'o': 8, 'r': 9, 's': 10, 't': 11, 'x': 12}\n",
      "example:  [10, 8, 6, 2, 0, 11, 2, 12, 11, 0, 3, 8, 9, 0, 11, 9, 1, 5, 7, 5, 7, 4] some text for training\n"
     ]
    }
   ],
   "source": [
    "with open('training-text.txt', 'r') as f:\n",
    "    text = f.read()\n",
    "chars = sorted(list(set(text)))\n",
    "print(\"\\nVocabulary size is \", len(chars), \"characters: \", ''.join(chars))\n",
    "\n",
    "ctoi, itoc = dict((char, index) for index, char in enumerate(chars)), dict((index, char) for index, char in enumerate(chars))\n",
    "print(\"\\nVocabulary: \",  ctoi)\n",
    "\n",
    "encoder = lambda sentence: [ctoi[char] for char in sentence] # encode sentence to index\n",
    "decoder = lambda indexes: ''.join([itoc[index] for index in indexes]) # decode index to sentence\n",
    "print(\"example: \",encoder(\"some text for training\"), decoder(encoder(\"some text for training\")))"
   ]
  }
 ],
 "metadata": {
  "kernelspec": {
   "display_name": "Python 3",
   "language": "python",
   "name": "python3"
  },
  "language_info": {
   "codemirror_mode": {
    "name": "ipython",
    "version": 3
   },
   "file_extension": ".py",
   "mimetype": "text/x-python",
   "name": "python",
   "nbconvert_exporter": "python",
   "pygments_lexer": "ipython3",
   "version": "3.10.12"
  }
 },
 "nbformat": 4,
 "nbformat_minor": 2
}
